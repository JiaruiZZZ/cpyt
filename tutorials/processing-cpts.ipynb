{
 "cells": [
  {
   "cell_type": "markdown",
   "id": "3e79e063",
   "metadata": {},
   "source": [
    "# Processing CPTs and performing analyses"
   ]
  },
  {
   "cell_type": "markdown",
   "id": "738854dd",
   "metadata": {},
   "source": [
    "The core of `CPyT` is the class `CPT` and is virtually used in all the different scripts available in the package. CPyT can be found in `cpyt/processing/read_cpt`.\n",
    "\n",
    "`CPT` is a \"Python class\". All classes have properties, in this case, CPT measurements and properties. This is what makes a Python-based analysis much more advnatageous compared to just Excel. In a Python class, you can store different types of data (e.g. $q_c$ data, CPT cone size, date of execution) in a structured manner, whereas in Excel, this becomes a lot more complicated."
   ]
  },
  {
   "cell_type": "markdown",
   "id": "8b32e7f7",
   "metadata": {},
   "source": [
    "# Write me some text\n",
    "This is text"
   ]
  },
  {
   "cell_type": "markdown",
   "id": "d609455c",
   "metadata": {},
   "source": [
    "## Reading CPTs"
   ]
  },
  {
   "cell_type": "markdown",
   "id": "24346b7b",
   "metadata": {},
   "source": [
    "The first thing we need to do is to read a CPT file and put the data into the `CPT` class. There are many different types of CPT files, including:\n",
    "- **.xlsx/.csv**\n",
    "- **.GEF**: The most popular file type in the Netherlands. Used in DINOloket for example.\n",
    "- **.AGS**: Particularly common on offshore sites. (As of 01/02/24, `CPyT` has no functionality for reading .AGS files but will be updated in due course.\n",
    "\n",
    "For this example, we'll read a GEF file using the function `readGEF`"
   ]
  },
  {
   "cell_type": "code",
   "execution_count": 6,
   "id": "a5e39928",
   "metadata": {},
   "outputs": [
    {
     "ename": "ModuleNotFoundError",
     "evalue": "No module named 'cpyt'",
     "output_type": "error",
     "traceback": [
      "\u001b[1;31m---------------------------------------------------------------------------\u001b[0m",
      "\u001b[1;31mModuleNotFoundError\u001b[0m                       Traceback (most recent call last)",
      "Cell \u001b[1;32mIn[6], line 2\u001b[0m\n\u001b[0;32m      1\u001b[0m \u001b[38;5;66;03m# Import required files\u001b[39;00m\n\u001b[1;32m----> 2\u001b[0m \u001b[38;5;28;01mfrom\u001b[39;00m \u001b[38;5;21;01mcpyt\u001b[39;00m \u001b[38;5;28;01mimport\u001b[39;00m \u001b[38;5;241m*\u001b[39m\n",
      "\u001b[1;31mModuleNotFoundError\u001b[0m: No module named 'cpyt'"
     ]
    }
   ],
   "source": [
    "# Import required files\n",
    "from cpyt import *"
   ]
  },
  {
   "cell_type": "code",
   "execution_count": null,
   "id": "9a1d488f",
   "metadata": {},
   "outputs": [],
   "source": []
  }
 ],
 "metadata": {
  "kernelspec": {
   "display_name": "Python 3 (ipykernel)",
   "language": "python",
   "name": "python3"
  },
  "language_info": {
   "codemirror_mode": {
    "name": "ipython",
    "version": 3
   },
   "file_extension": ".py",
   "mimetype": "text/x-python",
   "name": "python",
   "nbconvert_exporter": "python",
   "pygments_lexer": "ipython3",
   "version": "3.9.16"
  }
 },
 "nbformat": 4,
 "nbformat_minor": 5
}
