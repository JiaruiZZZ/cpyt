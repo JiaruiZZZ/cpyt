{
 "cells": [
  {
   "cell_type": "code",
   "execution_count": 1,
   "id": "37846e94",
   "metadata": {},
   "outputs": [],
   "source": [
    "import os, sys"
   ]
  },
  {
   "cell_type": "code",
   "execution_count": 5,
   "id": "58ef5a1a",
   "metadata": {},
   "outputs": [],
   "source": [
    "cpyt_directory = \"C:\\\\Users\\\\kduffy\\\\OneDrive\\\\Education\\\\University\\\\03_PhD\\\\CC_Work\\\\cpyt\\\\\"\n",
    "sys.path.insert(1, cpyt_directory)"
   ]
  },
  {
   "cell_type": "code",
   "execution_count": 11,
   "id": "64fe6cc4",
   "metadata": {},
   "outputs": [],
   "source": [
    "from cpyt.processing.read_cpt import CPT"
   ]
  },
  {
   "cell_type": "code",
   "execution_count": 12,
   "id": "cea3a133",
   "metadata": {},
   "outputs": [],
   "source": [
    "example_directory = \"C:\\\\Users\\\\kduffy\\\\OneDrive\\\\Education\\\\University\\\\03_PhD\\\\CC_Work\\\\cpyt\\\\samples\\\\\"\n",
    "gef_file = \"CPT000000148750_IMBRO_A.gef\""
   ]
  },
  {
   "cell_type": "code",
   "execution_count": 16,
   "id": "d800940e",
   "metadata": {},
   "outputs": [
    {
     "name": "stdout",
     "output_type": "stream",
     "text": [
      "==  sample-cpt.gef  =============\n",
      "\n",
      "Elevations corrected by default elevation in GEF file\n"
     ]
    },
    {
     "ename": "KeyError",
     "evalue": "0",
     "output_type": "error",
     "traceback": [
      "\u001b[1;31m---------------------------------------------------------------------------\u001b[0m",
      "\u001b[1;31mKeyError\u001b[0m                                  Traceback (most recent call last)",
      "Cell \u001b[1;32mIn[16], line 2\u001b[0m\n\u001b[0;32m      1\u001b[0m g \u001b[38;5;241m=\u001b[39m CPT()\n\u001b[1;32m----> 2\u001b[0m \u001b[43mg\u001b[49m\u001b[38;5;241;43m.\u001b[39;49m\u001b[43mreadGEF\u001b[49m\u001b[43m(\u001b[49m\u001b[43mexample_directory\u001b[49m\u001b[38;5;241;43m+\u001b[39;49m\u001b[43mgef_file\u001b[49m\u001b[43m)\u001b[49m\n",
      "File \u001b[1;32m~\\OneDrive\\Education\\University\\03_PhD\\CC_Work\\cpyt\\cpyt\\processing\\read_cpt.py:144\u001b[0m, in \u001b[0;36mCPT.readGEF\u001b[1;34m(self, filename)\u001b[0m\n\u001b[0;32m    141\u001b[0m     args \u001b[38;5;241m=\u001b[39m line\u001b[38;5;241m.\u001b[39msplit(\u001b[38;5;124m\"\u001b[39m\u001b[38;5;124m \u001b[39m\u001b[38;5;124m\"\u001b[39m) \n\u001b[0;32m    143\u001b[0m args \u001b[38;5;241m=\u001b[39m \u001b[38;5;28mlist\u001b[39m(\u001b[38;5;28mfilter\u001b[39m(\u001b[38;5;28;01mNone\u001b[39;00m, args))\n\u001b[1;32m--> 144\u001b[0m args \u001b[38;5;241m=\u001b[39m [np\u001b[38;5;241m.\u001b[39mnan \u001b[38;5;28;01mif\u001b[39;00m \u001b[38;5;28mfloat\u001b[39m(value) \u001b[38;5;241m==\u001b[39m col_void[i] \u001b[38;5;28;01melse\u001b[39;00m \u001b[38;5;28mfloat\u001b[39m(value) \u001b[38;5;28;01mfor\u001b[39;00m i,value \u001b[38;5;129;01min\u001b[39;00m \u001b[38;5;28menumerate\u001b[39m(args)]    \u001b[38;5;66;03m# replace zero values\u001b[39;00m\n\u001b[0;32m    146\u001b[0m \u001b[38;5;28;01mfor\u001b[39;00m dtype, col_id \u001b[38;5;129;01min\u001b[39;00m _columns\u001b[38;5;241m.\u001b[39mitems():\n\u001b[0;32m    147\u001b[0m     \u001b[38;5;28mself\u001b[39m\u001b[38;5;241m.\u001b[39m\u001b[38;5;18m__dict__\u001b[39m[GEF_COL_DTYPE[dtype]]\u001b[38;5;241m.\u001b[39mappend(\u001b[38;5;28mfloat\u001b[39m(args[col_id]))     \u001b[38;5;66;03m# Appends to class attribute based on dtype\u001b[39;00m\n",
      "File \u001b[1;32m~\\OneDrive\\Education\\University\\03_PhD\\CC_Work\\cpyt\\cpyt\\processing\\read_cpt.py:144\u001b[0m, in \u001b[0;36m<listcomp>\u001b[1;34m(.0)\u001b[0m\n\u001b[0;32m    141\u001b[0m     args \u001b[38;5;241m=\u001b[39m line\u001b[38;5;241m.\u001b[39msplit(\u001b[38;5;124m\"\u001b[39m\u001b[38;5;124m \u001b[39m\u001b[38;5;124m\"\u001b[39m) \n\u001b[0;32m    143\u001b[0m args \u001b[38;5;241m=\u001b[39m \u001b[38;5;28mlist\u001b[39m(\u001b[38;5;28mfilter\u001b[39m(\u001b[38;5;28;01mNone\u001b[39;00m, args))\n\u001b[1;32m--> 144\u001b[0m args \u001b[38;5;241m=\u001b[39m [np\u001b[38;5;241m.\u001b[39mnan \u001b[38;5;28;01mif\u001b[39;00m \u001b[38;5;28mfloat\u001b[39m(value) \u001b[38;5;241m==\u001b[39m \u001b[43mcol_void\u001b[49m\u001b[43m[\u001b[49m\u001b[43mi\u001b[49m\u001b[43m]\u001b[49m \u001b[38;5;28;01melse\u001b[39;00m \u001b[38;5;28mfloat\u001b[39m(value) \u001b[38;5;28;01mfor\u001b[39;00m i,value \u001b[38;5;129;01min\u001b[39;00m \u001b[38;5;28menumerate\u001b[39m(args)]    \u001b[38;5;66;03m# replace zero values\u001b[39;00m\n\u001b[0;32m    146\u001b[0m \u001b[38;5;28;01mfor\u001b[39;00m dtype, col_id \u001b[38;5;129;01min\u001b[39;00m _columns\u001b[38;5;241m.\u001b[39mitems():\n\u001b[0;32m    147\u001b[0m     \u001b[38;5;28mself\u001b[39m\u001b[38;5;241m.\u001b[39m\u001b[38;5;18m__dict__\u001b[39m[GEF_COL_DTYPE[dtype]]\u001b[38;5;241m.\u001b[39mappend(\u001b[38;5;28mfloat\u001b[39m(args[col_id]))     \u001b[38;5;66;03m# Appends to class attribute based on dtype\u001b[39;00m\n",
      "\u001b[1;31mKeyError\u001b[0m: 0"
     ]
    }
   ],
   "source": [
    "g = CPT()\n",
    "g.readGEF(example_directory+gef_file)"
   ]
  },
  {
   "cell_type": "code",
   "execution_count": null,
   "id": "c9c653cc",
   "metadata": {},
   "outputs": [],
   "source": []
  },
  {
   "cell_type": "code",
   "execution_count": null,
   "id": "0eb9388d",
   "metadata": {},
   "outputs": [],
   "source": []
  }
 ],
 "metadata": {
  "kernelspec": {
   "display_name": "Python 3 (ipykernel)",
   "language": "python",
   "name": "python3"
  },
  "language_info": {
   "codemirror_mode": {
    "name": "ipython",
    "version": 3
   },
   "file_extension": ".py",
   "mimetype": "text/x-python",
   "name": "python",
   "nbconvert_exporter": "python",
   "pygments_lexer": "ipython3",
   "version": "3.9.16"
  }
 },
 "nbformat": 4,
 "nbformat_minor": 5
}
