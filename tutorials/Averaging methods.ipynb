{
 "cells": [
  {
   "cell_type": "code",
   "execution_count": 6,
   "id": "28956950",
   "metadata": {},
   "outputs": [],
   "source": [
    "import os, sys\n",
    "import pandas as pd, numpy as np\n",
    "import matplotlib.pyplot as plt\n",
    "\n",
    "# Add cpyt to path\n",
    "cpyt_directory = \"C:\\\\Users\\\\kduffy\\\\OneDrive\\\\Education\\\\University\\\\03_PhD\\\\CC_Work\\\\cpyt\\\\\"\n",
    "sys.path.insert(1, cpyt_directory)\n",
    "\n",
    "from cpyt.piles.axialcapacity import averaging_methods "
   ]
  },
  {
   "cell_type": "markdown",
   "id": "fab41b9c",
   "metadata": {},
   "source": [
    "\n",
    "## Some artificial data to explore with"
   ]
  },
  {
   "cell_type": "code",
   "execution_count": 28,
   "id": "553b2164",
   "metadata": {},
   "outputs": [],
   "source": [
    "z = np.linspace(-10,0, int(10/0.05))   \n",
    "\n",
    "# Soft clay\n",
    "std = 0.1\n",
    "mean = 1.0\n",
    "layer1 = np.random.normal(mean,std,int(4/0.05)) \n",
    "\n",
    "# Sand\n",
    "std = 1\n",
    "mean = 10\n",
    "layer2 = np.random.normal(mean,std,int(2/0.05))\n",
    "\n",
    "# Thin weak zone\n",
    "std = 0.1\n",
    "mean = 4\n",
    "layer3 = np.random.normal(mean,std,int(1/0.05)) \n",
    "\n",
    "# Sand\n",
    "std = 1\n",
    "mean = 10\n",
    "layer4 = np.random.normal(mean,std,int(3/0.05)) \n",
    "\n",
    "qc = np.concatenate((layer4,layer3,layer2,layer1))\n",
    "cpt = pd.DataFrame({\"z\": z, \"qc\":qc,})"
   ]
  },
  {
   "cell_type": "markdown",
   "id": "eb6bba84",
   "metadata": {},
   "source": [
    "## Boulanger & DeJong averaging method"
   ]
  },
  {
   "cell_type": "code",
   "execution_count": 47,
   "id": "64b60c09",
   "metadata": {},
   "outputs": [
    {
     "name": "stdout",
     "output_type": "stream",
     "text": [
      "Using the Boulanger method, qc_avg at -8.99m is 9.71 MPa\n",
      "Using the Boulanger method, qc_avg at -8.94m is 1.10 MPa\n",
      "Using the Boulanger method, qc_avg at -8.89m is 10.30 MPa\n",
      "Using the Boulanger method, qc_avg at -8.84m is 1.10 MPa\n",
      "Using the Boulanger method, qc_avg at -8.79m is 10.75 MPa\n",
      "Using the Boulanger method, qc_avg at -8.74m is 1.10 MPa\n",
      "Using the Boulanger method, qc_avg at -8.69m is 10.07 MPa\n",
      "Using the Boulanger method, qc_avg at -8.64m is 1.10 MPa\n",
      "Using the Boulanger method, qc_avg at -8.59m is 9.19 MPa\n",
      "Using the Boulanger method, qc_avg at -8.54m is 1.10 MPa\n",
      "Using the Boulanger method, qc_avg at -8.49m is 9.35 MPa\n",
      "Using the Boulanger method, qc_avg at -8.44m is 1.10 MPa\n",
      "Using the Boulanger method, qc_avg at -8.39m is 9.63 MPa\n",
      "Using the Boulanger method, qc_avg at -8.34m is 1.10 MPa\n",
      "Using the Boulanger method, qc_avg at -8.29m is 10.15 MPa\n",
      "Using the Boulanger method, qc_avg at -8.24m is 1.10 MPa\n",
      "Using the Boulanger method, qc_avg at -8.19m is 10.04 MPa\n",
      "Using the Boulanger method, qc_avg at -8.14m is 1.10 MPa\n",
      "Using the Boulanger method, qc_avg at -8.09m is 9.71 MPa\n",
      "Using the Boulanger method, qc_avg at -8.04m is 1.10 MPa\n",
      "Using the Boulanger method, qc_avg at -7.99m is 9.45 MPa\n",
      "Using the Boulanger method, qc_avg at -7.94m is 1.10 MPa\n",
      "Using the Boulanger method, qc_avg at -7.89m is 11.22 MPa\n",
      "Using the Boulanger method, qc_avg at -7.84m is 1.10 MPa\n",
      "Using the Boulanger method, qc_avg at -7.79m is 9.21 MPa\n",
      "Using the Boulanger method, qc_avg at -7.74m is 1.10 MPa\n",
      "Using the Boulanger method, qc_avg at -7.69m is 10.29 MPa\n",
      "Using the Boulanger method, qc_avg at -7.64m is 1.10 MPa\n",
      "Using the Boulanger method, qc_avg at -7.59m is 9.28 MPa\n",
      "Using the Boulanger method, qc_avg at -7.54m is 1.10 MPa\n",
      "Using the Boulanger method, qc_avg at -7.49m is 8.60 MPa\n",
      "Using the Boulanger method, qc_avg at -7.44m is 1.10 MPa\n",
      "Using the Boulanger method, qc_avg at -7.39m is 10.65 MPa\n",
      "Using the Boulanger method, qc_avg at -7.34m is 1.10 MPa\n",
      "Using the Boulanger method, qc_avg at -7.29m is 9.75 MPa\n",
      "Using the Boulanger method, qc_avg at -7.24m is 1.10 MPa\n",
      "Using the Boulanger method, qc_avg at -7.19m is 9.91 MPa\n",
      "Using the Boulanger method, qc_avg at -7.14m is 1.10 MPa\n",
      "Using the Boulanger method, qc_avg at -7.09m is 9.97 MPa\n",
      "Using the Boulanger method, qc_avg at -7.04m is 1.10 MPa\n",
      "Using the Boulanger method, qc_avg at -6.98m is 7.48 MPa\n",
      "Using the Boulanger method, qc_avg at -6.93m is 1.10 MPa\n",
      "Using the Boulanger method, qc_avg at -6.88m is 4.09 MPa\n",
      "Using the Boulanger method, qc_avg at -6.83m is 1.10 MPa\n",
      "Using the Boulanger method, qc_avg at -6.78m is 4.04 MPa\n",
      "Using the Boulanger method, qc_avg at -6.73m is 1.10 MPa\n",
      "Using the Boulanger method, qc_avg at -6.68m is 4.02 MPa\n",
      "Using the Boulanger method, qc_avg at -6.63m is 1.10 MPa\n",
      "Using the Boulanger method, qc_avg at -6.58m is 4.03 MPa\n",
      "Using the Boulanger method, qc_avg at -6.53m is 1.10 MPa\n",
      "Using the Boulanger method, qc_avg at -6.48m is 4.05 MPa\n",
      "Using the Boulanger method, qc_avg at -6.43m is 1.10 MPa\n",
      "Using the Boulanger method, qc_avg at -6.38m is 4.01 MPa\n",
      "Using the Boulanger method, qc_avg at -6.33m is 1.10 MPa\n",
      "Using the Boulanger method, qc_avg at -6.28m is 4.03 MPa\n",
      "Using the Boulanger method, qc_avg at -6.23m is 1.10 MPa\n",
      "Using the Boulanger method, qc_avg at -6.18m is 3.98 MPa\n",
      "Using the Boulanger method, qc_avg at -6.13m is 1.10 MPa\n",
      "Using the Boulanger method, qc_avg at -6.08m is 3.95 MPa\n",
      "Using the Boulanger method, qc_avg at -6.03m is 1.10 MPa\n",
      "Using the Boulanger method, qc_avg at -5.98m is 7.10 MPa\n",
      "Using the Boulanger method, qc_avg at -5.93m is 1.10 MPa\n",
      "Using the Boulanger method, qc_avg at -5.88m is 10.44 MPa\n",
      "Using the Boulanger method, qc_avg at -5.83m is 1.10 MPa\n",
      "Using the Boulanger method, qc_avg at -5.78m is 9.91 MPa\n",
      "Using the Boulanger method, qc_avg at -5.73m is 1.10 MPa\n",
      "Using the Boulanger method, qc_avg at -5.68m is 8.83 MPa\n",
      "Using the Boulanger method, qc_avg at -5.63m is 1.10 MPa\n",
      "Using the Boulanger method, qc_avg at -5.58m is 10.46 MPa\n",
      "Using the Boulanger method, qc_avg at -5.53m is 1.10 MPa\n",
      "Using the Boulanger method, qc_avg at -5.48m is 9.36 MPa\n",
      "Using the Boulanger method, qc_avg at -5.43m is 1.10 MPa\n",
      "Using the Boulanger method, qc_avg at -5.38m is 9.44 MPa\n",
      "Using the Boulanger method, qc_avg at -5.33m is 1.10 MPa\n",
      "Using the Boulanger method, qc_avg at -5.28m is 9.91 MPa\n",
      "Using the Boulanger method, qc_avg at -5.23m is 1.10 MPa\n",
      "Using the Boulanger method, qc_avg at -5.18m is 9.61 MPa\n",
      "Using the Boulanger method, qc_avg at -5.13m is 1.10 MPa\n",
      "Using the Boulanger method, qc_avg at -5.08m is 9.63 MPa\n",
      "Using the Boulanger method, qc_avg at -5.03m is 1.10 MPa\n",
      "Using the Boulanger method, qc_avg at -4.97m is 9.93 MPa\n",
      "Using the Boulanger method, qc_avg at -4.92m is 1.10 MPa\n",
      "Using the Boulanger method, qc_avg at -4.87m is 11.67 MPa\n",
      "Using the Boulanger method, qc_avg at -4.82m is 1.10 MPa\n",
      "Using the Boulanger method, qc_avg at -4.77m is 10.23 MPa\n",
      "Using the Boulanger method, qc_avg at -4.72m is 1.10 MPa\n",
      "Using the Boulanger method, qc_avg at -4.67m is 8.73 MPa\n",
      "Using the Boulanger method, qc_avg at -4.62m is 1.10 MPa\n",
      "Using the Boulanger method, qc_avg at -4.57m is 9.35 MPa\n",
      "Using the Boulanger method, qc_avg at -4.52m is 1.10 MPa\n",
      "Using the Boulanger method, qc_avg at -4.47m is 11.14 MPa\n",
      "Using the Boulanger method, qc_avg at -4.42m is 1.10 MPa\n",
      "Using the Boulanger method, qc_avg at -4.37m is 10.08 MPa\n",
      "Using the Boulanger method, qc_avg at -4.32m is 1.10 MPa\n",
      "Using the Boulanger method, qc_avg at -4.27m is 9.25 MPa\n",
      "Using the Boulanger method, qc_avg at -4.22m is 1.10 MPa\n",
      "Using the Boulanger method, qc_avg at -4.17m is 10.15 MPa\n",
      "Using the Boulanger method, qc_avg at -4.12m is 1.10 MPa\n",
      "Using the Boulanger method, qc_avg at -4.07m is 9.73 MPa\n",
      "Using the Boulanger method, qc_avg at -4.02m is 1.10 MPa\n",
      "Using the Boulanger method, qc_avg at -3.97m is 5.45 MPa\n",
      "Using the Boulanger method, qc_avg at -3.92m is 1.10 MPa\n",
      "Using the Boulanger method, qc_avg at -3.87m is 1.02 MPa\n",
      "Using the Boulanger method, qc_avg at -3.82m is 1.10 MPa\n",
      "Using the Boulanger method, qc_avg at -3.77m is 1.02 MPa\n",
      "Using the Boulanger method, qc_avg at -3.72m is 1.10 MPa\n",
      "Using the Boulanger method, qc_avg at -3.67m is 0.89 MPa\n",
      "Using the Boulanger method, qc_avg at -3.62m is 1.10 MPa\n",
      "Using the Boulanger method, qc_avg at -3.57m is 1.03 MPa\n",
      "Using the Boulanger method, qc_avg at -3.52m is 1.10 MPa\n",
      "Using the Boulanger method, qc_avg at -3.47m is 1.13 MPa\n",
      "Using the Boulanger method, qc_avg at -3.42m is 1.10 MPa\n",
      "Using the Boulanger method, qc_avg at -3.37m is 0.82 MPa\n",
      "Using the Boulanger method, qc_avg at -3.32m is 1.10 MPa\n",
      "Using the Boulanger method, qc_avg at -3.27m is 0.97 MPa\n",
      "Using the Boulanger method, qc_avg at -3.22m is 1.10 MPa\n",
      "Using the Boulanger method, qc_avg at -3.17m is 1.02 MPa\n",
      "Using the Boulanger method, qc_avg at -3.12m is 1.10 MPa\n",
      "Using the Boulanger method, qc_avg at -3.07m is 0.88 MPa\n",
      "Using the Boulanger method, qc_avg at -3.02m is 1.10 MPa\n",
      "Using the Boulanger method, qc_avg at -2.96m is 0.85 MPa\n",
      "Using the Boulanger method, qc_avg at -2.91m is 1.10 MPa\n",
      "Using the Boulanger method, qc_avg at -2.86m is 1.04 MPa\n",
      "Using the Boulanger method, qc_avg at -2.81m is 1.10 MPa\n",
      "Using the Boulanger method, qc_avg at -2.76m is 1.08 MPa\n",
      "Using the Boulanger method, qc_avg at -2.71m is 1.10 MPa\n",
      "Using the Boulanger method, qc_avg at -2.66m is 1.14 MPa\n",
      "Using the Boulanger method, qc_avg at -2.61m is 1.10 MPa\n",
      "Using the Boulanger method, qc_avg at -2.56m is 1.07 MPa\n",
      "Using the Boulanger method, qc_avg at -2.51m is 1.10 MPa\n",
      "Using the Boulanger method, qc_avg at -2.46m is 1.04 MPa\n",
      "Using the Boulanger method, qc_avg at -2.41m is 1.10 MPa\n",
      "Using the Boulanger method, qc_avg at -2.36m is 1.08 MPa\n",
      "Using the Boulanger method, qc_avg at -2.31m is 1.10 MPa\n",
      "Using the Boulanger method, qc_avg at -2.26m is 1.00 MPa\n",
      "Using the Boulanger method, qc_avg at -2.21m is 1.10 MPa\n",
      "Using the Boulanger method, qc_avg at -2.16m is 0.97 MPa\n",
      "Using the Boulanger method, qc_avg at -2.11m is 1.10 MPa\n",
      "Using the Boulanger method, qc_avg at -2.06m is 1.01 MPa\n",
      "Using the Boulanger method, qc_avg at -2.01m is 1.10 MPa\n",
      "Using the Boulanger method, qc_avg at -1.96m is 1.04 MPa\n",
      "Using the Boulanger method, qc_avg at -1.91m is 1.10 MPa\n",
      "Using the Boulanger method, qc_avg at -1.86m is 1.06 MPa\n",
      "Using the Boulanger method, qc_avg at -1.81m is 1.10 MPa\n",
      "Using the Boulanger method, qc_avg at -1.76m is 1.02 MPa\n",
      "Using the Boulanger method, qc_avg at -1.71m is 1.10 MPa\n",
      "Using the Boulanger method, qc_avg at -1.66m is 0.91 MPa\n",
      "Using the Boulanger method, qc_avg at -1.61m is 1.10 MPa\n",
      "Using the Boulanger method, qc_avg at -1.56m is 1.01 MPa\n",
      "Using the Boulanger method, qc_avg at -1.51m is 1.10 MPa\n",
      "Using the Boulanger method, qc_avg at -1.46m is 1.00 MPa\n",
      "Using the Boulanger method, qc_avg at -1.41m is 1.10 MPa\n",
      "Using the Boulanger method, qc_avg at -1.36m is 1.11 MPa\n",
      "Using the Boulanger method, qc_avg at -1.31m is 1.09 MPa\n",
      "Using the Boulanger method, qc_avg at -1.26m is 0.92 MPa\n",
      "Using the Boulanger method, qc_avg at -1.21m is 1.09 MPa\n",
      "Using the Boulanger method, qc_avg at -1.16m is 1.06 MPa\n",
      "Using the Boulanger method, qc_avg at -1.11m is 1.09 MPa\n",
      "Using the Boulanger method, qc_avg at -1.06m is 0.91 MPa\n",
      "Using the Boulanger method, qc_avg at -1.01m is 1.09 MPa\n"
     ]
    }
   ],
   "source": [
    "qcavg_lst = []\n",
    "z_lst = []\n",
    "for depth in cpt.z.iloc[20:-20]:\n",
    "    qcavg_lst.append(averaging_methods.boulanger_dejong(cpt,dia=0.036,target_depth = depth))\n",
    "    z_lst.append(depth)"
   ]
  },
  {
   "cell_type": "code",
   "execution_count": 45,
   "id": "6f3ceccf",
   "metadata": {},
   "outputs": [
    {
     "data": {
      "text/plain": [
       "<matplotlib.legend.Legend at 0x22bd976f490>"
      ]
     },
     "execution_count": 45,
     "metadata": {},
     "output_type": "execute_result"
    },
    {
     "data": {
      "image/png": "[encoded data removed]",
      "text/plain": [
       "<Figure size 640x480 with 1 Axes>"
      ]
     },
     "metadata": {},
     "output_type": "display_data"
    }
   ],
   "source": [
    "plt.plot(cpt.qc, cpt.z, label= \"Measured\")\n",
    "plt.plot(qcavg_lst, z_lst,label=\"Filter method BDJ18\")\n",
    "plt.legend()"
   ]
  },
  {
   "cell_type": "code",
   "execution_count": 43,
   "id": "3300c387",
   "metadata": {},
   "outputs": [
    {
     "name": "stdout",
     "output_type": "stream",
     "text": [
      "Using the Boulanger method, qc_avg at -10.00m is 10.42 MPa\n"
     ]
    },
    {
     "data": {
      "text/plain": [
       "10.418655336918334"
      ]
     },
     "execution_count": 43,
     "metadata": {},
     "output_type": "execute_result"
    }
   ],
   "source": [
    "from cpyt.piles.axialcapacity import averaging_methods \n",
    "fig = averaging_methods.boulanger_dejong(cpt,dia=0.036,target_depth = -10)\n",
    "fig"
   ]
  },
  {
   "cell_type": "code",
   "execution_count": null,
   "id": "1829c405",
   "metadata": {},
   "outputs": [],
   "source": []
  }
 ],
 "metadata": {
  "kernelspec": {
   "display_name": "Python 3 (ipykernel)",
   "language": "python",
   "name": "python3"
  },
  "language_info": {
   "codemirror_mode": {
    "name": "ipython",
    "version": 3
   },
   "file_extension": ".py",
   "mimetype": "text/x-python",
   "name": "python",
   "nbconvert_exporter": "python",
   "pygments_lexer": "ipython3",
   "version": "3.9.16"
  }
 },
 "nbformat": 4,
 "nbformat_minor": 5
}
